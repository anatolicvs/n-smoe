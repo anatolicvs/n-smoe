{
 "cells": [
  {
   "cell_type": "code",
   "execution_count": 2,
   "metadata": {},
   "outputs": [],
   "source": [
    "import torch\n",
    "from einops import rearrange\n",
    "from jaxtyping import Float\n",
    "from torch import Tensor\n",
    "\n",
    "\n",
    "# https://github.com/facebookresearch/pytorch3d/blob/main/pytorch3d/transforms/rotation_conversions.py\n",
    "def quaternion_to_matrix(\n",
    "    quaternions: Float[Tensor, \"*batch 4\"],\n",
    "    eps: float = 1e-8,\n",
    ") -> Float[Tensor, \"*batch 3 3\"]:\n",
    "    # Order changed to match scipy format!\n",
    "    i, j, k, r = torch.unbind(quaternions, dim=-1)\n",
    "    two_s = 2 / ((quaternions * quaternions).sum(dim=-1) + eps)\n",
    "\n",
    "    o = torch.stack(\n",
    "        (\n",
    "            1 - two_s * (j * j + k * k),\n",
    "            two_s * (i * j - k * r),\n",
    "            two_s * (i * k + j * r),\n",
    "            two_s * (i * j + k * r),\n",
    "            1 - two_s * (i * i + k * k),\n",
    "            two_s * (j * k - i * r),\n",
    "            two_s * (i * k - j * r),\n",
    "            two_s * (j * k + i * r),\n",
    "            1 - two_s * (i * i + j * j),\n",
    "        ),\n",
    "        -1,\n",
    "    )\n",
    "    return rearrange(o, \"... (i j) -> ... i j\", i=3, j=3)\n",
    "\n",
    "\n",
    "def build_covariance(\n",
    "    scale: Float[Tensor, \"*#batch 3\"],\n",
    "    rotation_xyzw: Float[Tensor, \"*#batch 4\"],\n",
    ") -> Float[Tensor, \"*batch 3 3\"]:\n",
    "    scale = scale.diag_embed()\n",
    "    rotation = quaternion_to_matrix(rotation_xyzw)\n",
    "    return (\n",
    "        rotation\n",
    "        @ scale\n",
    "        @ rearrange(scale, \"... i j -> ... j i\")\n",
    "        @ rearrange(rotation, \"... i j -> ... j i\")\n",
    "    )\n"
   ]
  },
  {
   "cell_type": "code",
   "execution_count": 4,
   "metadata": {},
   "outputs": [
    {
     "name": "stdout",
     "output_type": "stream",
     "text": [
      "Covariance Matrix:\n",
      "tensor([[[ 9.,  0.,  0.],\n",
      "         [ 0.,  4.,  0.],\n",
      "         [ 0.,  0., 16.]]])\n",
      "torch.Size([1, 3, 3])\n"
     ]
    }
   ],
   "source": [
    "scale_factors = torch.tensor([[2.0, 3.0, 4.0]])  # Shape: [1, 3]\n",
    "\n",
    "# Define a quaternion for rotation (batch size of 1)\n",
    "# Quaternion format: [i, j, k, r] where r is the real part\n",
    "quaternion = torch.tensor([[0.0, 0.0, 0.707, 0.707]])  # Shape: [1, 4]\n",
    "\n",
    "\n",
    "covariance_matrix = build_covariance(scale_factors, quaternion)\n",
    "\n",
    "print(\"Covariance Matrix:\")\n",
    "print(covariance_matrix)\n",
    "print(covariance_matrix.shape)"
   ]
  },
  {
   "cell_type": "code",
   "execution_count": null,
   "metadata": {},
   "outputs": [],
   "source": []
  }
 ],
 "metadata": {
  "kernelspec": {
   "display_name": "venv11",
   "language": "python",
   "name": "python3"
  },
  "language_info": {
   "codemirror_mode": {
    "name": "ipython",
    "version": 3
   },
   "file_extension": ".py",
   "mimetype": "text/x-python",
   "name": "python",
   "nbconvert_exporter": "python",
   "pygments_lexer": "ipython3",
   "version": "3.1.-1"
  }
 },
 "nbformat": 4,
 "nbformat_minor": 2
}
